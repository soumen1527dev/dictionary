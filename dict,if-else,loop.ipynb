{
 "cells": [
  {
   "cell_type": "code",
   "execution_count": 1,
   "id": "26e6e0a2-16aa-47aa-800d-752d1dd67c32",
   "metadata": {},
   "outputs": [],
   "source": [
    "#today we are going to discuss about dictionary in python language"
   ]
  },
  {
   "cell_type": "code",
   "execution_count": 2,
   "id": "73ead56a-2de7-4697-bec9-bc9501540846",
   "metadata": {},
   "outputs": [],
   "source": [
    "d = {}"
   ]
  },
  {
   "cell_type": "code",
   "execution_count": 3,
   "id": "8441a438-aa92-4a98-bcfc-e4e4e3662b68",
   "metadata": {},
   "outputs": [
    {
     "data": {
      "text/plain": [
       "dict"
      ]
     },
     "execution_count": 3,
     "metadata": {},
     "output_type": "execute_result"
    }
   ],
   "source": [
    "type (d)"
   ]
  },
  {
   "cell_type": "code",
   "execution_count": 4,
   "id": "72f1013d-2391-4cb0-8721-b9f251e907da",
   "metadata": {},
   "outputs": [],
   "source": [
    "d1 = {\"key\" : \"soumen\"}"
   ]
  },
  {
   "cell_type": "code",
   "execution_count": 5,
   "id": "2cee679c-e0ff-4434-82a2-dbd02c049f57",
   "metadata": {},
   "outputs": [
    {
     "data": {
      "text/plain": [
       "{'key': 'soumen'}"
      ]
     },
     "execution_count": 5,
     "metadata": {},
     "output_type": "execute_result"
    }
   ],
   "source": [
    "d1"
   ]
  },
  {
   "cell_type": "code",
   "execution_count": 6,
   "id": "bc29916e-d7a2-4d4d-b90b-0af63de02aac",
   "metadata": {},
   "outputs": [],
   "source": [
    "d2 = {\"name\" : \"soumen\", \"email\" : \"das073995@gmail.com\", \"number\" : \"8170931527\"}"
   ]
  },
  {
   "cell_type": "code",
   "execution_count": 7,
   "id": "df17f94b-06f7-4dad-ab63-e465258c91b4",
   "metadata": {},
   "outputs": [
    {
     "data": {
      "text/plain": [
       "{'name': 'soumen', 'email': 'das073995@gmail.com', 'number': '8170931527'}"
      ]
     },
     "execution_count": 7,
     "metadata": {},
     "output_type": "execute_result"
    }
   ],
   "source": [
    "d2"
   ]
  },
  {
   "cell_type": "code",
   "execution_count": 11,
   "id": "a462af7e-bf4f-45d7-bdf1-48beaaefd9dc",
   "metadata": {},
   "outputs": [],
   "source": [
    "d3 = {234 : \"soumen\", \"_wer\" : \"das\", True : 24234}"
   ]
  },
  {
   "cell_type": "code",
   "execution_count": 12,
   "id": "9da6447f-57bb-41e0-b33c-87ab9539d03e",
   "metadata": {},
   "outputs": [
    {
     "data": {
      "text/plain": [
       "{234: 'soumen', '_wer': 'das', True: 24234}"
      ]
     },
     "execution_count": 12,
     "metadata": {},
     "output_type": "execute_result"
    }
   ],
   "source": [
    "d3"
   ]
  },
  {
   "cell_type": "code",
   "execution_count": 13,
   "id": "b359b4c8-5f7d-4815-a900-ea17a2decfe7",
   "metadata": {},
   "outputs": [],
   "source": [
    "#There is no index in dictionary in python language"
   ]
  },
  {
   "cell_type": "code",
   "execution_count": 15,
   "id": "7aae52eb-24ee-42bd-94e8-1715a10344cf",
   "metadata": {},
   "outputs": [
    {
     "data": {
      "text/plain": [
       "'soumen'"
      ]
     },
     "execution_count": 15,
     "metadata": {},
     "output_type": "execute_result"
    }
   ],
   "source": [
    "d3[234]"
   ]
  },
  {
   "cell_type": "code",
   "execution_count": 16,
   "id": "88924512-78d0-4d8c-96c1-580f40fa1279",
   "metadata": {},
   "outputs": [
    {
     "data": {
      "text/plain": [
       "24234"
      ]
     },
     "execution_count": 16,
     "metadata": {},
     "output_type": "execute_result"
    }
   ],
   "source": [
    "d3 [True] "
   ]
  },
  {
   "cell_type": "code",
   "execution_count": 23,
   "id": "702863df-c283-41f3-8c10-702e15db68c4",
   "metadata": {},
   "outputs": [
    {
     "data": {
      "text/plain": [
       "24234"
      ]
     },
     "execution_count": 23,
     "metadata": {},
     "output_type": "execute_result"
    }
   ],
   "source": [
    "d3 [1]"
   ]
  },
  {
   "cell_type": "code",
   "execution_count": 32,
   "id": "42289d35-f1c2-4b20-836a-36c8eb46a6b9",
   "metadata": {},
   "outputs": [],
   "source": [
    "d4 = {\"name\" : \"sou\", \"email\" : \"das073995@gmail.com\", \"name\" : \"soumen\"}"
   ]
  },
  {
   "cell_type": "code",
   "execution_count": 33,
   "id": "f263b829-3f0f-49f3-9828-1e35ceefeb6e",
   "metadata": {},
   "outputs": [
    {
     "data": {
      "text/plain": [
       "'soumen'"
      ]
     },
     "execution_count": 33,
     "metadata": {},
     "output_type": "execute_result"
    }
   ],
   "source": [
    "d4 ['name']"
   ]
  },
  {
   "cell_type": "code",
   "execution_count": 34,
   "id": "724ee753-072f-4392-8ea1-2ad44afb83fc",
   "metadata": {},
   "outputs": [],
   "source": [
    "d5 = {\"company\" : \"pwskills\", \"course\" : [\"web dev\", \"data science\", \"java with dsa and system design\"]}"
   ]
  },
  {
   "cell_type": "code",
   "execution_count": 35,
   "id": "eb55a82f-bc42-4ac2-8478-7982e363e680",
   "metadata": {},
   "outputs": [
    {
     "data": {
      "text/plain": [
       "['web dev', 'data science', 'java with dsa and system design']"
      ]
     },
     "execution_count": 35,
     "metadata": {},
     "output_type": "execute_result"
    }
   ],
   "source": [
    "d5 [\"course\"]"
   ]
  },
  {
   "cell_type": "code",
   "execution_count": 36,
   "id": "a35cbec0-1c02-4512-9fd7-335d36a8f11a",
   "metadata": {},
   "outputs": [
    {
     "data": {
      "text/plain": [
       "'java with dsa and system design'"
      ]
     },
     "execution_count": 36,
     "metadata": {},
     "output_type": "execute_result"
    }
   ],
   "source": [
    "d5 [\"course\"] [2]"
   ]
  },
  {
   "cell_type": "code",
   "execution_count": 37,
   "id": "95e574bd-9e71-4f76-844d-22c3d19f4c5a",
   "metadata": {},
   "outputs": [],
   "source": [
    "d6 = {\"number\" : [2,3,4,34,34], \"assignment\" : (1,2,3,4,5,6), \"launch time\" : {28,12,14}, \"class time\" : {\"web dev\" : 8, \"data science\" : 8, \"java with dsa abd system design\" : 7}}"
   ]
  },
  {
   "cell_type": "code",
   "execution_count": 38,
   "id": "06a5c35c-ef65-4405-8213-30710f6f7342",
   "metadata": {},
   "outputs": [
    {
     "data": {
      "text/plain": [
       "{'number': [2, 3, 4, 34, 34],\n",
       " 'assignment': (1, 2, 3, 4, 5, 6),\n",
       " 'launch time': {12, 14, 28},\n",
       " 'class time': {'web dev': 8,\n",
       "  'data science': 8,\n",
       "  'java with dsa abd system design': 7}}"
      ]
     },
     "execution_count": 38,
     "metadata": {},
     "output_type": "execute_result"
    }
   ],
   "source": [
    "d6"
   ]
  },
  {
   "cell_type": "code",
   "execution_count": 40,
   "id": "27c15de9-1b02-4849-9716-5110fb972136",
   "metadata": {},
   "outputs": [
    {
     "data": {
      "text/plain": [
       "7"
      ]
     },
     "execution_count": 40,
     "metadata": {},
     "output_type": "execute_result"
    }
   ],
   "source": [
    "d6 [\"class time\"]['java with dsa abd system design']"
   ]
  },
  {
   "cell_type": "code",
   "execution_count": 41,
   "id": "95657b4b-6253-41f1-8c27-c1cdfce0f4f6",
   "metadata": {},
   "outputs": [],
   "source": [
    "#add a new key in dictionary in python anguage"
   ]
  },
  {
   "cell_type": "code",
   "execution_count": 42,
   "id": "c6b7b9c9-8812-4c18-8607-36903afc30b5",
   "metadata": {},
   "outputs": [],
   "source": [
    "d6 ['mentor'] = [\"sudhashu\", \"krish\", \"anurag\", \"hayder\"]"
   ]
  },
  {
   "cell_type": "code",
   "execution_count": 43,
   "id": "c43157ac-6f34-49df-bd63-914538b81fd4",
   "metadata": {},
   "outputs": [
    {
     "data": {
      "text/plain": [
       "{'number': [2, 3, 4, 34, 34],\n",
       " 'assignment': (1, 2, 3, 4, 5, 6),\n",
       " 'launch time': {12, 14, 28},\n",
       " 'class time': {'web dev': 8,\n",
       "  'data science': 8,\n",
       "  'java with dsa abd system design': 7},\n",
       " 'mentor': ['sudhashu', 'krish', 'anurag', 'hayder']}"
      ]
     },
     "execution_count": 43,
     "metadata": {},
     "output_type": "execute_result"
    }
   ],
   "source": [
    "d6"
   ]
  },
  {
   "cell_type": "code",
   "execution_count": 44,
   "id": "ebc8a520-1a83-4f23-8ff0-0af8f640a3e0",
   "metadata": {},
   "outputs": [],
   "source": [
    "#delete a key from dictionary in python language"
   ]
  },
  {
   "cell_type": "code",
   "execution_count": 45,
   "id": "817df079-f816-40c2-9022-8aa345468398",
   "metadata": {},
   "outputs": [],
   "source": [
    "del d6 ['number']"
   ]
  },
  {
   "cell_type": "code",
   "execution_count": 46,
   "id": "f5d5a2b4-32ee-4e43-ac94-6c0ebba6b10a",
   "metadata": {},
   "outputs": [
    {
     "data": {
      "text/plain": [
       "{'assignment': (1, 2, 3, 4, 5, 6),\n",
       " 'launch time': {12, 14, 28},\n",
       " 'class time': {'web dev': 8,\n",
       "  'data science': 8,\n",
       "  'java with dsa abd system design': 7},\n",
       " 'mentor': ['sudhashu', 'krish', 'anurag', 'hayder']}"
      ]
     },
     "execution_count": 46,
     "metadata": {},
     "output_type": "execute_result"
    }
   ],
   "source": [
    "d6"
   ]
  },
  {
   "cell_type": "code",
   "execution_count": 47,
   "id": "84b5b49a-d7c0-4124-93c0-0fd3435d0a28",
   "metadata": {},
   "outputs": [
    {
     "data": {
      "text/plain": [
       "dict_keys(['assignment', 'launch time', 'class time', 'mentor'])"
      ]
     },
     "execution_count": 47,
     "metadata": {},
     "output_type": "execute_result"
    }
   ],
   "source": [
    "d6.keys()"
   ]
  },
  {
   "cell_type": "code",
   "execution_count": 48,
   "id": "2b600bbe-b20b-42b4-8acc-5609d1a67e41",
   "metadata": {},
   "outputs": [
    {
     "data": {
      "text/plain": [
       "['assignment', 'launch time', 'class time', 'mentor']"
      ]
     },
     "execution_count": 48,
     "metadata": {},
     "output_type": "execute_result"
    }
   ],
   "source": [
    "list (d6.keys())"
   ]
  },
  {
   "cell_type": "code",
   "execution_count": 49,
   "id": "6e529229-af2a-4bbe-ac4f-99b5f5e88cc7",
   "metadata": {},
   "outputs": [
    {
     "data": {
      "text/plain": [
       "dict_values([(1, 2, 3, 4, 5, 6), {28, 12, 14}, {'web dev': 8, 'data science': 8, 'java with dsa abd system design': 7}, ['sudhashu', 'krish', 'anurag', 'hayder']])"
      ]
     },
     "execution_count": 49,
     "metadata": {},
     "output_type": "execute_result"
    }
   ],
   "source": [
    "d6.values()"
   ]
  },
  {
   "cell_type": "code",
   "execution_count": 50,
   "id": "894fb850-531f-4cd6-93cc-97baedb12183",
   "metadata": {},
   "outputs": [
    {
     "data": {
      "text/plain": [
       "[('assignment', (1, 2, 3, 4, 5, 6)),\n",
       " ('launch time', {12, 14, 28}),\n",
       " ('class time',\n",
       "  {'web dev': 8, 'data science': 8, 'java with dsa abd system design': 7}),\n",
       " ('mentor', ['sudhashu', 'krish', 'anurag', 'hayder'])]"
      ]
     },
     "execution_count": 50,
     "metadata": {},
     "output_type": "execute_result"
    }
   ],
   "source": [
    "list (d6.items())"
   ]
  },
  {
   "cell_type": "code",
   "execution_count": 51,
   "id": "8de5c1a4-c1d5-4bb2-9526-626b09d01e0a",
   "metadata": {},
   "outputs": [
    {
     "data": {
      "text/plain": [
       "(1, 2, 3, 4, 5, 6)"
      ]
     },
     "execution_count": 51,
     "metadata": {},
     "output_type": "execute_result"
    }
   ],
   "source": [
    "d6.pop('assignment')"
   ]
  },
  {
   "cell_type": "code",
   "execution_count": 52,
   "id": "fcdf259a-a8e7-4454-95ef-cab7f5c388bd",
   "metadata": {},
   "outputs": [
    {
     "data": {
      "text/plain": [
       "{'launch time': {12, 14, 28},\n",
       " 'class time': {'web dev': 8,\n",
       "  'data science': 8,\n",
       "  'java with dsa abd system design': 7},\n",
       " 'mentor': ['sudhashu', 'krish', 'anurag', 'hayder']}"
      ]
     },
     "execution_count": 52,
     "metadata": {},
     "output_type": "execute_result"
    }
   ],
   "source": [
    "d6"
   ]
  },
  {
   "cell_type": "code",
   "execution_count": 54,
   "id": "405497a2-fc02-4b09-9a69-8a07f82b7459",
   "metadata": {},
   "outputs": [
    {
     "ename": "TypeError",
     "evalue": "pop expected at least 1 argument, got 0",
     "output_type": "error",
     "traceback": [
      "\u001b[0;31m---------------------------------------------------------------------------\u001b[0m",
      "\u001b[0;31mTypeError\u001b[0m                                 Traceback (most recent call last)",
      "Cell \u001b[0;32mIn[54], line 1\u001b[0m\n\u001b[0;32m----> 1\u001b[0m \u001b[43md6\u001b[49m\u001b[38;5;241;43m.\u001b[39;49m\u001b[43mpop\u001b[49m\u001b[43m(\u001b[49m\u001b[43m)\u001b[49m\n",
      "\u001b[0;31mTypeError\u001b[0m: pop expected at least 1 argument, got 0"
     ]
    }
   ],
   "source": [
    "d6.pop()"
   ]
  },
  {
   "cell_type": "code",
   "execution_count": 55,
   "id": "04074f80-c101-4d5e-93d3-9e9ab4eea725",
   "metadata": {},
   "outputs": [],
   "source": [
    "#control statements / Decesion making statement"
   ]
  },
  {
   "cell_type": "code",
   "execution_count": 61,
   "id": "a1440ca8-3093-450a-be50-52641fa78809",
   "metadata": {},
   "outputs": [
    {
     "name": "stdin",
     "output_type": "stream",
     "text": [
      "Enter your marks: 100\n"
     ]
    },
    {
     "name": "stdout",
     "output_type": "stream",
     "text": [
      "you are a part of A0 batch\n"
     ]
    }
   ],
   "source": [
    "marks = int (input(\"Enter your marks:\"))\n",
    "if marks >= 80:\n",
    "    print (\"you are a part of A0 batch\")\n",
    "elif marks >= 60 and marks < 80:\n",
    "    print (\"you are a part of A1 batch\")\n",
    "elif marks >= 40 and marks < 60:\n",
    "    print (\"you are a part of A2 batch\")\n",
    "else :\n",
    "    print (\"You are a part of A3 batch\")"
   ]
  },
  {
   "cell_type": "code",
   "execution_count": 62,
   "id": "95b983ed-d9ab-40cf-9f20-37ff9642cea3",
   "metadata": {},
   "outputs": [],
   "source": [
    "#shopping mall discount"
   ]
  },
  {
   "cell_type": "code",
   "execution_count": 64,
   "id": "663d51d5-0cb7-4b59-b901-c75c21a5c441",
   "metadata": {},
   "outputs": [
    {
     "name": "stdin",
     "output_type": "stream",
     "text": [
      "Enter price: 500\n"
     ]
    },
    {
     "name": "stdout",
     "output_type": "stream",
     "text": [
      "I will purchase\n"
     ]
    }
   ],
   "source": [
    "price = int (input (\"Enter price:\"))\n",
    "if price > 1000:\n",
    "    print (\"I will not purchase\")\n",
    "else:\n",
    "    print (\"I will purchase\")"
   ]
  },
  {
   "cell_type": "code",
   "execution_count": 66,
   "id": "e6bea2e0-4c8c-49b0-bc2f-89bc2c3243f4",
   "metadata": {},
   "outputs": [
    {
     "name": "stdin",
     "output_type": "stream",
     "text": [
      "Enter price: 1001\n"
     ]
    },
    {
     "name": "stdout",
     "output_type": "stream",
     "text": [
      "I will not purchase\n"
     ]
    }
   ],
   "source": [
    "price = int (input (\"Enter price:\"))\n",
    "if price > 1000:\n",
    "    print (\"I will not purchase\")"
   ]
  },
  {
   "cell_type": "code",
   "execution_count": 68,
   "id": "9aa4b0ea-18e5-4bc0-84fb-3dd394a0ce64",
   "metadata": {},
   "outputs": [
    {
     "name": "stdin",
     "output_type": "stream",
     "text": [
      "Enter price: 7000\n"
     ]
    },
    {
     "name": "stdout",
     "output_type": "stream",
     "text": [
      "I will not purchase\n",
      "this is too much\n"
     ]
    }
   ],
   "source": [
    "price = int (input (\"Enter price:\"))\n",
    "if price > 1000:\n",
    "    print (\"I will not purchase\")\n",
    "    if price > 5000:\n",
    "        print (\"this is too much\")"
   ]
  },
  {
   "cell_type": "code",
   "execution_count": 76,
   "id": "f20d77f7-e185-461a-95c2-53ee41554b7c",
   "metadata": {},
   "outputs": [
    {
     "name": "stdin",
     "output_type": "stream",
     "text": [
      "Enter price: 500\n"
     ]
    },
    {
     "name": "stdout",
     "output_type": "stream",
     "text": [
      "its ok\n"
     ]
    }
   ],
   "source": [
    "price = int (input (\"Enter price:\"))\n",
    "if price > 1000:\n",
    "    print (\"I will not purchase\")\n",
    "    if price > 5000:\n",
    "        print (\"this is too much\")\n",
    "elif price < 2000:\n",
    "    print (\"its ok\")"
   ]
  },
  {
   "cell_type": "code",
   "execution_count": 77,
   "id": "43c322af-a9ac-47e5-b759-4d044f3442cd",
   "metadata": {},
   "outputs": [],
   "source": [
    "#loop in python"
   ]
  },
  {
   "cell_type": "code",
   "execution_count": 78,
   "id": "b6b94bcb-0714-4559-a603-a84cb9d85495",
   "metadata": {},
   "outputs": [],
   "source": [
    "#add +1 with all the elements and print it as a list\n",
    "l = [1,2,3,4,5,6,7,8]"
   ]
  },
  {
   "cell_type": "code",
   "execution_count": 86,
   "id": "ebbcf1cf-c68b-4403-a891-b92aae1ffd5c",
   "metadata": {},
   "outputs": [
    {
     "name": "stdout",
     "output_type": "stream",
     "text": [
      "2\n",
      "3\n",
      "4\n",
      "5\n",
      "6\n",
      "7\n",
      "8\n",
      "9\n"
     ]
    },
    {
     "data": {
      "text/plain": [
       "[2, 3, 4, 5, 6, 7, 8, 9]"
      ]
     },
     "execution_count": 86,
     "metadata": {},
     "output_type": "execute_result"
    }
   ],
   "source": [
    "l1 = []\n",
    "for i in l:\n",
    "    print (i+1)\n",
    "    l1.append(i+1)\n",
    "l1"
   ]
  },
  {
   "cell_type": "code",
   "execution_count": 87,
   "id": "4316c810-c59b-4b99-80ad-f88af4226e88",
   "metadata": {},
   "outputs": [],
   "source": [
    "l = [\"soumen\", \"das\", \"pwskills\", \"course\"]"
   ]
  },
  {
   "cell_type": "code",
   "execution_count": 101,
   "id": "63752fce-20be-4fa4-9970-080f6d061dbc",
   "metadata": {},
   "outputs": [
    {
     "name": "stdout",
     "output_type": "stream",
     "text": [
      "1\n"
     ]
    },
    {
     "ename": "AttributeError",
     "evalue": "'int' object has no attribute 'upper'",
     "output_type": "error",
     "traceback": [
      "\u001b[0;31m---------------------------------------------------------------------------\u001b[0m",
      "\u001b[0;31mAttributeError\u001b[0m                            Traceback (most recent call last)",
      "Cell \u001b[0;32mIn[101], line 5\u001b[0m\n\u001b[1;32m      2\u001b[0m \u001b[38;5;28;01mfor\u001b[39;00m i \u001b[38;5;129;01min\u001b[39;00m l:\n\u001b[1;32m      3\u001b[0m     \u001b[38;5;28mprint\u001b[39m (i)\n\u001b[0;32m----> 5\u001b[0m     l1\u001b[38;5;241m.\u001b[39mappend(\u001b[43mi\u001b[49m\u001b[38;5;241;43m.\u001b[39;49m\u001b[43mupper\u001b[49m())\n",
      "\u001b[0;31mAttributeError\u001b[0m: 'int' object has no attribute 'upper'"
     ]
    }
   ],
   "source": [
    "l1 = []\n",
    "for i in l:\n",
    "    print (i)\n",
    "   \n",
    "    l1.append(i.upper())"
   ]
  },
  {
   "cell_type": "code",
   "execution_count": 91,
   "id": "6cc01673-4014-46ed-8900-a2209c8c3a0d",
   "metadata": {},
   "outputs": [],
   "source": [
    "l = [1,2,3,4, \"soumen\", \"das\", 324,34.456,\"abc\"]"
   ]
  },
  {
   "cell_type": "code",
   "execution_count": 97,
   "id": "16ad5f2c-1cd4-498e-b90f-a84e53598a09",
   "metadata": {},
   "outputs": [],
   "source": [
    "l1_num = []\n",
    "l2_str = []\n",
    "\n",
    "for i in l:\n",
    "    if type (i) == int or type (i) == float:\n",
    "        l1_num.append(i)\n",
    "    else :\n",
    "        l2_str.append(i)"
   ]
  },
  {
   "cell_type": "code",
   "execution_count": 98,
   "id": "465b2c53-05d6-4e25-886f-2b17f3af6282",
   "metadata": {},
   "outputs": [
    {
     "data": {
      "text/plain": [
       "[1, 2, 3, 4, 324, 34.456]"
      ]
     },
     "execution_count": 98,
     "metadata": {},
     "output_type": "execute_result"
    }
   ],
   "source": [
    "l1_num"
   ]
  },
  {
   "cell_type": "code",
   "execution_count": 99,
   "id": "f058fe2c-54f4-4a3a-a328-a1724ae16897",
   "metadata": {},
   "outputs": [
    {
     "data": {
      "text/plain": [
       "['soumen', 'das', 'abc']"
      ]
     },
     "execution_count": 99,
     "metadata": {},
     "output_type": "execute_result"
    }
   ],
   "source": [
    "l2_str"
   ]
  },
  {
   "cell_type": "code",
   "execution_count": 103,
   "id": "b7a9079b-c9f9-4cec-9b24-f59df9657d4a",
   "metadata": {},
   "outputs": [
    {
     "name": "stdout",
     "output_type": "stream",
     "text": [
      "1\n"
     ]
    },
    {
     "ename": "AttributeError",
     "evalue": "'int' object has no attribute 'upper'",
     "output_type": "error",
     "traceback": [
      "\u001b[0;31m---------------------------------------------------------------------------\u001b[0m",
      "\u001b[0;31mAttributeError\u001b[0m                            Traceback (most recent call last)",
      "Cell \u001b[0;32mIn[103], line 5\u001b[0m\n\u001b[1;32m      2\u001b[0m \u001b[38;5;28;01mfor\u001b[39;00m i \u001b[38;5;129;01min\u001b[39;00m l:\n\u001b[1;32m      3\u001b[0m     \u001b[38;5;28mprint\u001b[39m (i)\n\u001b[0;32m----> 5\u001b[0m     l1\u001b[38;5;241m.\u001b[39mappend(\u001b[43mi\u001b[49m\u001b[38;5;241;43m.\u001b[39;49m\u001b[43mupper\u001b[49m())\n\u001b[1;32m      6\u001b[0m l1\n",
      "\u001b[0;31mAttributeError\u001b[0m: 'int' object has no attribute 'upper'"
     ]
    }
   ],
   "source": [
    "l1 = []\n",
    "for i in l:\n",
    "    print (i)\n",
    "   \n",
    "    l1.append(i.upper())\n",
    "l1"
   ]
  },
  {
   "cell_type": "code",
   "execution_count": 104,
   "id": "ece2165f-4615-4890-9a4f-9e9670ae065a",
   "metadata": {},
   "outputs": [],
   "source": [
    "l = [\"soumen\", \"das\", \"pwskills\", \"course\"]"
   ]
  },
  {
   "cell_type": "code",
   "execution_count": 106,
   "id": "d8a0f79c-e199-4785-b263-05d1129651e6",
   "metadata": {},
   "outputs": [
    {
     "name": "stdout",
     "output_type": "stream",
     "text": [
      "soumen\n",
      "das\n",
      "pwskills\n",
      "course\n"
     ]
    }
   ],
   "source": [
    "l1 = []\n",
    "for i in l:\n",
    "    print (i)\n",
    "   \n",
    "    l1.append(i.upper())\n"
   ]
  },
  {
   "cell_type": "code",
   "execution_count": 107,
   "id": "032cf4bc-b64c-427e-9106-f6293eaa2a62",
   "metadata": {},
   "outputs": [
    {
     "data": {
      "text/plain": [
       "['SOUMEN', 'DAS', 'PWSKILLS', 'COURSE']"
      ]
     },
     "execution_count": 107,
     "metadata": {},
     "output_type": "execute_result"
    }
   ],
   "source": [
    "l1"
   ]
  },
  {
   "cell_type": "code",
   "execution_count": null,
   "id": "0d22cda5-0836-4a2d-85c2-dc66df9f2c35",
   "metadata": {},
   "outputs": [],
   "source": []
  }
 ],
 "metadata": {
  "kernelspec": {
   "display_name": "Python 3 (ipykernel)",
   "language": "python",
   "name": "python3"
  },
  "language_info": {
   "codemirror_mode": {
    "name": "ipython",
    "version": 3
   },
   "file_extension": ".py",
   "mimetype": "text/x-python",
   "name": "python",
   "nbconvert_exporter": "python",
   "pygments_lexer": "ipython3",
   "version": "3.10.8"
  }
 },
 "nbformat": 4,
 "nbformat_minor": 5
}
